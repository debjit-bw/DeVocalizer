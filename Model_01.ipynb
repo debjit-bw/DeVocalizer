{
 "cells": [
  {
   "cell_type": "code",
   "execution_count": null,
   "metadata": {},
   "outputs": [],
   "source": [
    "from tensorflow.keras.models import Model, load_model, Sequential\n",
    "from tensorflow.keras.layers import Dense, Activation, Dropout, Input, Masking, TimeDistributed, LSTM, Conv1D\n",
    "from tensorflow.keras.layers import GRU, Bidirectional, BatchNormalization, Reshape\n",
    "from tensorflow.keras.optimizers import Adam"
   ]
  },
  {
   "cell_type": "code",
   "execution_count": 1,
   "metadata": {
    "scrolled": true
   },
   "outputs": [],
   "source": [
    "from tensorflow.keras.losses import "
   ]
  },
  {
   "cell_type": "code",
   "execution_count": 42,
   "metadata": {},
   "outputs": [],
   "source": [
    "model = Sequential()\n",
    "#model.add(GRU(1, activation = 'tanh', return_sequences = 'True', input_shape = (44100, 1)))\n",
    "#model.add(Conv1D(filters = 1, kernel_size = 2, padding = 'same', activation = 'relu', input_shape = (44100, 1)))\n",
    "model.add(TimeDistributed(Dense(1, activation = 'relu'), input_shape = (44100, 1)))"
   ]
  },
  {
   "cell_type": "code",
   "execution_count": 3,
   "metadata": {},
   "outputs": [],
   "source": [
    "from scipy.io.wavfile import read, write\n",
    "import numpy as np"
   ]
  },
  {
   "cell_type": "code",
   "execution_count": 4,
   "metadata": {},
   "outputs": [],
   "source": [
    "def setify(i, j):\n",
    "    _, setX = read('Data/X/X' + str(i) + '.wav')\n",
    "    _, setY = read('Data/Y/Y' + str(i) + '.wav')\n",
    "    setX = setX.reshape((1, 441000, 1))[:,0:44100,:]\n",
    "    setY = setY.reshape((1, 441000, 1))[:,0:44100,:]\n",
    "    for k in range(i+1, j):\n",
    "        _, x = read('Data/X/X' + str(k) + '.wav')\n",
    "        _, y = read('Data/Y/Y' + str(k) + '.wav')\n",
    "        setX = np.concatenate((setX, x.reshape((1, 441000, 1))[:,0:44100,:]), axis = 0)\n",
    "        setY = np.concatenate((setY, y.reshape((1, 441000, 1))[:,0:44100,:]), axis = 0)\n",
    "        if (k%50)==0:\n",
    "            print(str(k), end = '   ')\n",
    "    return setX, setY"
   ]
  },
  {
   "cell_type": "code",
   "execution_count": 49,
   "metadata": {},
   "outputs": [],
   "source": [
    "model.compile(optimizer = Adam(), loss = 'mean_absolute_error', metrics = ['accuracy'])"
   ]
  },
  {
   "cell_type": "code",
   "execution_count": 44,
   "metadata": {},
   "outputs": [
    {
     "name": "stdout",
     "output_type": "stream",
     "text": [
      "Model: \"sequential_6\"\n",
      "_________________________________________________________________\n",
      "Layer (type)                 Output Shape              Param #   \n",
      "=================================================================\n",
      "time_distributed_5 (TimeDist (None, 44100, 1)          2         \n",
      "=================================================================\n",
      "Total params: 2\n",
      "Trainable params: 2\n",
      "Non-trainable params: 0\n",
      "_________________________________________________________________\n"
     ]
    }
   ],
   "source": [
    "model.summary()"
   ]
  },
  {
   "cell_type": "code",
   "execution_count": 15,
   "metadata": {},
   "outputs": [
    {
     "name": "stdout",
     "output_type": "stream",
     "text": [
      "50   100   150   200   250   300   350   400   450   500   550   600   650   700   750   800   850   900   950   "
     ]
    }
   ],
   "source": [
    "x, y = setify(0, 1000)"
   ]
  },
  {
   "cell_type": "code",
   "execution_count": 19,
   "metadata": {},
   "outputs": [
    {
     "name": "stdout",
     "output_type": "stream",
     "text": [
      "(1000, 44100, 1)\n",
      "(1000, 44100, 1)\n"
     ]
    }
   ],
   "source": [
    "print(x.shape)\n",
    "print(y.shape)"
   ]
  },
  {
   "cell_type": "code",
   "execution_count": 45,
   "metadata": {},
   "outputs": [
    {
     "name": "stdout",
     "output_type": "stream",
     "text": [
      "Train on 1000 samples\n",
      "1000/1000 [==============================] - 6s 6ms/sample - loss: 55366164.8960 - accuracy: 1.3392e-04\n"
     ]
    },
    {
     "data": {
      "text/plain": [
       "<tensorflow.python.keras.callbacks.History at 0x6cac258a88>"
      ]
     },
     "execution_count": 45,
     "metadata": {},
     "output_type": "execute_result"
    }
   ],
   "source": [
    "model.fit(x = x, y = x, batch_size = 16, epochs = 1)"
   ]
  },
  {
   "cell_type": "code",
   "execution_count": 24,
   "metadata": {},
   "outputs": [
    {
     "name": "stdout",
     "output_type": "stream",
     "text": [
      "4350   4400   4450   "
     ]
    }
   ],
   "source": [
    "x_t, y_t = setify(4300, 4500)"
   ]
  },
  {
   "cell_type": "code",
   "execution_count": 46,
   "metadata": {},
   "outputs": [
    {
     "name": "stdout",
     "output_type": "stream",
     "text": [
      "200/200 [==============================] - 1s 3ms/sample - loss: 31224662.7200 - accuracy: 2.8753e-04\n"
     ]
    },
    {
     "data": {
      "text/plain": [
       "[31224662.72, 0.00028752835]"
      ]
     },
     "execution_count": 46,
     "metadata": {},
     "output_type": "execute_result"
    }
   ],
   "source": [
    "model.evaluate(x = x_t, y = y_t)"
   ]
  },
  {
   "cell_type": "code",
   "execution_count": 48,
   "metadata": {},
   "outputs": [
    {
     "name": "stdout",
     "output_type": "stream",
     "text": [
      "Help on method compile in module tensorflow.python.keras.engine.training:\n",
      "\n",
      "compile(optimizer='rmsprop', loss=None, metrics=None, loss_weights=None, sample_weight_mode=None, weighted_metrics=None, target_tensors=None, distribute=None, **kwargs) method of tensorflow.python.keras.engine.sequential.Sequential instance\n",
      "    Configures the model for training.\n",
      "    \n",
      "    Arguments:\n",
      "        optimizer: String (name of optimizer) or optimizer instance.\n",
      "            See `tf.keras.optimizers`.\n",
      "        loss: String (name of objective function), objective function or\n",
      "            `tf.keras.losses.Loss` instance. See `tf.keras.losses`. An objective\n",
      "            function is any callable with the signature\n",
      "            `scalar_loss = fn(y_true, y_pred)`. If the model has multiple\n",
      "            outputs, you can use a different loss on each output by passing a\n",
      "            dictionary or a list of losses. The loss value that will be\n",
      "            minimized by the model will then be the sum of all individual\n",
      "            losses.\n",
      "        metrics: List of metrics to be evaluated by the model during training\n",
      "            and testing. Typically you will use `metrics=['accuracy']`.\n",
      "            To specify different metrics for different outputs of a\n",
      "            multi-output model, you could also pass a dictionary, such as\n",
      "            `metrics={'output_a': 'accuracy', 'output_b': ['accuracy', 'mse']}`.\n",
      "            You can also pass a list (len = len(outputs)) of lists of metrics\n",
      "            such as `metrics=[['accuracy'], ['accuracy', 'mse']]` or\n",
      "            `metrics=['accuracy', ['accuracy', 'mse']]`.\n",
      "        loss_weights: Optional list or dictionary specifying scalar\n",
      "            coefficients (Python floats) to weight the loss contributions\n",
      "            of different model outputs.\n",
      "            The loss value that will be minimized by the model\n",
      "            will then be the *weighted sum* of all individual losses,\n",
      "            weighted by the `loss_weights` coefficients.\n",
      "            If a list, it is expected to have a 1:1 mapping\n",
      "            to the model's outputs. If a tensor, it is expected to map\n",
      "            output names (strings) to scalar coefficients.\n",
      "        sample_weight_mode: If you need to do timestep-wise\n",
      "            sample weighting (2D weights), set this to `\"temporal\"`.\n",
      "            `None` defaults to sample-wise weights (1D).\n",
      "            If the model has multiple outputs, you can use a different\n",
      "            `sample_weight_mode` on each output by passing a\n",
      "            dictionary or a list of modes.\n",
      "        weighted_metrics: List of metrics to be evaluated and weighted\n",
      "            by sample_weight or class_weight during training and testing.\n",
      "        target_tensors: By default, Keras will create placeholders for the\n",
      "            model's target, which will be fed with the target data during\n",
      "            training. If instead you would like to use your own\n",
      "            target tensors (in turn, Keras will not expect external\n",
      "            Numpy data for these targets at training time), you\n",
      "            can specify them via the `target_tensors` argument. It can be\n",
      "            a single tensor (for a single-output model), a list of tensors,\n",
      "            or a dict mapping output names to target tensors.\n",
      "        distribute: NOT SUPPORTED IN TF 2.0, please create and compile the\n",
      "            model under distribution strategy scope instead of passing it to\n",
      "            compile.\n",
      "        **kwargs: Any additional arguments.\n",
      "    \n",
      "    Raises:\n",
      "        ValueError: In case of invalid arguments for\n",
      "            `optimizer`, `loss`, `metrics` or `sample_weight_mode`.\n",
      "\n"
     ]
    }
   ],
   "source": [
    "help(model.compile)"
   ]
  },
  {
   "cell_type": "code",
   "execution_count": null,
   "metadata": {},
   "outputs": [],
   "source": []
  }
 ],
 "metadata": {
  "kernelspec": {
   "display_name": "Python 3",
   "language": "python",
   "name": "python3"
  },
  "language_info": {
   "codemirror_mode": {
    "name": "ipython",
    "version": 3
   },
   "file_extension": ".py",
   "mimetype": "text/x-python",
   "name": "python",
   "nbconvert_exporter": "python",
   "pygments_lexer": "ipython3",
   "version": "3.7.7"
  }
 },
 "nbformat": 4,
 "nbformat_minor": 4
}
