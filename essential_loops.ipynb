{
 "cells": [
  {
   "cell_type": "markdown",
   "metadata": {},
   "source": [
    "### To check which files are not sampled at 44100"
   ]
  },
  {
   "cell_type": "code",
   "execution_count": 1,
   "metadata": {},
   "outputs": [],
   "source": [
    "from scipy.io.wavfile import read, write\n",
    "import pydub\n",
    "AS = pydub.AudioSegment"
   ]
  },
  {
   "cell_type": "code",
   "execution_count": 2,
   "metadata": {},
   "outputs": [
    {
     "name": "stdout",
     "output_type": "stream",
     "text": [
      "0\n",
      "1\n",
      "2\n",
      "3\n",
      "4\n",
      "5\n",
      "6\n"
     ]
    }
   ],
   "source": [
    "for i in range(7):\n",
    "    wav = AS.from_file('Data/bg/' + str(i) + '.mp3')\n",
    "    wav.export('Data/bg/' + str(i) + '.wav', format = 'wav')\n",
    "    print(i)"
   ]
  },
  {
   "cell_type": "code",
   "execution_count": null,
   "metadata": {},
   "outputs": [],
   "source": [
    "mp3 = AS.from_file('Data/vc/3.mp3')\n",
    "len(mp3)"
   ]
  },
  {
   "cell_type": "code",
   "execution_count": null,
   "metadata": {},
   "outputs": [],
   "source": []
  },
  {
   "cell_type": "code",
   "execution_count": 3,
   "metadata": {},
   "outputs": [],
   "source": [
    "a = []\n",
    "\n",
    "for i in range(7):\n",
    "    f1, data1 = read('Data/bg/' + str(i) + '.wav')\n",
    "    if (f1!=44100):\n",
    "        a.append(i)"
   ]
  },
  {
   "cell_type": "code",
   "execution_count": 4,
   "metadata": {},
   "outputs": [
    {
     "name": "stdout",
     "output_type": "stream",
     "text": [
      "[1]\n"
     ]
    }
   ],
   "source": [
    "print(a)"
   ]
  },
  {
   "cell_type": "markdown",
   "metadata": {},
   "source": [
    "### Delete files indexed in a"
   ]
  },
  {
   "cell_type": "code",
   "execution_count": null,
   "metadata": {},
   "outputs": [],
   "source": [
    "import os\n",
    "for i in range(len(a)):\n",
    "    os.remove('Data/X/x' + str(a[i]) + '.wav')\n",
    "    os.remove('Data/Y/y' + str(a[i]) + '.wav')\n",
    "    print(a[i])"
   ]
  },
  {
   "cell_type": "markdown",
   "metadata": {},
   "source": [
    "### To remove files not sampled at 44100"
   ]
  },
  {
   "cell_type": "code",
   "execution_count": null,
   "metadata": {},
   "outputs": [],
   "source": [
    "idx = 0\n",
    "i = 0\n",
    "\n",
    "for i in range(5000):\n",
    "    if (os.path.exists('Data/X/x' + str(i) + '.wav') and os.path.exists('Data/Y/y' + str(i) + '.wav')):\n",
    "        f1, _ = read('Data/X/x' + str(i) + '.wav')\n",
    "        f2, _ = read('Data/Y/y' + str(i) + '.wav')\n",
    "        if (f1==44100) and (f2==44100):\n",
    "            os.rename('Data/X/x' + str(i) + '.wav', 'Data/X/X' + str(idx) + '.wav')\n",
    "            os.rename('Data/Y/y' + str(i) + '.wav', 'Data/Y/Y' + str(idx) + '.wav')\n",
    "            idx += 1\n",
    "            print(idx)"
   ]
  }
 ],
 "metadata": {
  "kernelspec": {
   "display_name": "Python 3",
   "language": "python",
   "name": "python3"
  },
  "language_info": {
   "codemirror_mode": {
    "name": "ipython",
    "version": 3
   },
   "file_extension": ".py",
   "mimetype": "text/x-python",
   "name": "python",
   "nbconvert_exporter": "python",
   "pygments_lexer": "ipython3",
   "version": "3.7.7"
  }
 },
 "nbformat": 4,
 "nbformat_minor": 4
}
